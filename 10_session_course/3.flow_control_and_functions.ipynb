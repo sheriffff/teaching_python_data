{
 "cells": [
  {
   "cell_type": "markdown",
   "metadata": {},
   "source": [
    "# Condicionales, bucles y funciones en Python"
   ]
  },
  {
   "cell_type": "markdown",
   "metadata": {},
   "source": [
    "por [Manuel López Sheriff](https://www.linkedin.com/in/sheriff-data/)"
   ]
  },
  {
   "cell_type": "markdown",
   "id": "subjective-quarter",
   "metadata": {
    "toc": true
   },
   "source": [
    "<h1>Table of Contents<span class=\"tocSkip\"></span></h1>\n",
    "<div class=\"toc\"><ul class=\"toc-item\"><li><span><a href=\"#Algunos-operadores-interesantes\" data-toc-modified-id=\"Algunos-operadores-interesantes-1\"><span class=\"toc-item-num\">1&nbsp;&nbsp;</span>Algunos operadores interesantes</a></span><ul class=\"toc-item\"><li><span><a href=\"#Operadores-relacionales\" data-toc-modified-id=\"Operadores-relacionales-1.1\"><span class=\"toc-item-num\">1.1&nbsp;&nbsp;</span>Operadores relacionales</a></span></li><li><span><a href=\"#Operadores-lógicos/booleanos\" data-toc-modified-id=\"Operadores-lógicos/booleanos-1.2\"><span class=\"toc-item-num\">1.2&nbsp;&nbsp;</span>Operadores lógicos/booleanos</a></span></li></ul></li><li><span><a href=\"#Condicionales-if-elif-else\" data-toc-modified-id=\"Condicionales-if-elif-else-2\"><span class=\"toc-item-num\">2&nbsp;&nbsp;</span>Condicionales <code>if</code>-<code>elif</code>-<code>else</code></a></span></li><li><span><a href=\"#Bucles-for\" data-toc-modified-id=\"Bucles-for-3\"><span class=\"toc-item-num\">3&nbsp;&nbsp;</span>Bucles <code>for</code></a></span><ul class=\"toc-item\"><li><span><a href=\"#Intro\" data-toc-modified-id=\"Intro-3.1\"><span class=\"toc-item-num\">3.1&nbsp;&nbsp;</span>Intro</a></span></li><li><span><a href=\"#range()\" data-toc-modified-id=\"range()-3.2\"><span class=\"toc-item-num\">3.2&nbsp;&nbsp;</span>range()</a></span></li><li><span><a href=\"#enumerate()\" data-toc-modified-id=\"enumerate()-3.3\"><span class=\"toc-item-num\">3.3&nbsp;&nbsp;</span>enumerate()</a></span></li><li><span><a href=\"#break\" data-toc-modified-id=\"break-3.4\"><span class=\"toc-item-num\">3.4&nbsp;&nbsp;</span>break</a></span></li><li><span><a href=\"#zip()\" data-toc-modified-id=\"zip()-3.5\"><span class=\"toc-item-num\">3.5&nbsp;&nbsp;</span>zip()</a></span></li><li><span><a href=\"#Iterar-sobre-un-diccionario\" data-toc-modified-id=\"Iterar-sobre-un-diccionario-3.6\"><span class=\"toc-item-num\">3.6&nbsp;&nbsp;</span>Iterar sobre un diccionario</a></span></li></ul></li><li><span><a href=\"#Bucles-while\" data-toc-modified-id=\"Bucles-while-4\"><span class=\"toc-item-num\">4&nbsp;&nbsp;</span>Bucles <code>while</code></a></span></li><li><span><a href=\"#Funciones\" data-toc-modified-id=\"Funciones-5\"><span class=\"toc-item-num\">5&nbsp;&nbsp;</span>Funciones</a></span><ul class=\"toc-item\"><li><span><a href=\"#Funciones-conocidas\" data-toc-modified-id=\"Funciones-conocidas-5.1\"><span class=\"toc-item-num\">5.1&nbsp;&nbsp;</span>Funciones conocidas</a></span></li><li><span><a href=\"#Motivación\" data-toc-modified-id=\"Motivación-5.2\"><span class=\"toc-item-num\">5.2&nbsp;&nbsp;</span>Motivación</a></span></li><li><span><a href=\"#Sintaxis-básica-y-ejemplos\" data-toc-modified-id=\"Sintaxis-básica-y-ejemplos-5.3\"><span class=\"toc-item-num\">5.3&nbsp;&nbsp;</span>Sintaxis básica y ejemplos</a></span></li><li><span><a href=\"#Funciones-con-un-argumento\" data-toc-modified-id=\"Funciones-con-un-argumento-5.4\"><span class=\"toc-item-num\">5.4&nbsp;&nbsp;</span>Funciones con un argumento</a></span></li><li><span><a href=\"#Funciones-con-varios-argumentos\" data-toc-modified-id=\"Funciones-con-varios-argumentos-5.5\"><span class=\"toc-item-num\">5.5&nbsp;&nbsp;</span>Funciones con varios argumentos</a></span></li></ul></li><li><span><a href=\"#Extras\" data-toc-modified-id=\"Extras-6\"><span class=\"toc-item-num\">6&nbsp;&nbsp;</span>Extras</a></span></li></ul></div>"
   ]
  },
  {
   "cell_type": "markdown",
   "metadata": {},
   "source": [
    "## Algunos operadores interesantes"
   ]
  },
  {
   "cell_type": "markdown",
   "id": "boolean-diamond",
   "metadata": {},
   "source": [
    "### Operadores relacionales"
   ]
  },
  {
   "cell_type": "code",
   "execution_count": 6,
   "metadata": {},
   "outputs": [],
   "source": [
    "age = 23"
   ]
  },
  {
   "cell_type": "markdown",
   "id": "recorded-penetration",
   "metadata": {},
   "source": [
    "Los operadores relacionales se utilizan para comparar dos expresiones, para hacer preguntas.\n",
    "\n",
    "El resultado de la evaluación es un **booleano**: `True` o `False`"
   ]
  },
  {
   "cell_type": "code",
   "execution_count": 9,
   "metadata": {},
   "outputs": [
    {
     "data": {
      "text/plain": [
       "False"
      ]
     },
     "execution_count": 9,
     "metadata": {},
     "output_type": "execute_result"
    }
   ],
   "source": [
    "age == 18"
   ]
  },
  {
   "cell_type": "code",
   "execution_count": 10,
   "metadata": {},
   "outputs": [
    {
     "data": {
      "text/plain": [
       "True"
      ]
     },
     "execution_count": 10,
     "metadata": {},
     "output_type": "execute_result"
    }
   ],
   "source": [
    "age != 18"
   ]
  },
  {
   "cell_type": "code",
   "execution_count": 11,
   "metadata": {},
   "outputs": [
    {
     "data": {
      "text/plain": [
       "True"
      ]
     },
     "execution_count": 11,
     "metadata": {},
     "output_type": "execute_result"
    }
   ],
   "source": [
    "age > 18"
   ]
  },
  {
   "cell_type": "code",
   "execution_count": 12,
   "metadata": {},
   "outputs": [
    {
     "data": {
      "text/plain": [
       "False"
      ]
     },
     "execution_count": 12,
     "metadata": {},
     "output_type": "execute_result"
    }
   ],
   "source": [
    "age < 18"
   ]
  },
  {
   "cell_type": "code",
   "execution_count": 13,
   "metadata": {},
   "outputs": [
    {
     "data": {
      "text/plain": [
       "True"
      ]
     },
     "execution_count": 13,
     "metadata": {},
     "output_type": "execute_result"
    }
   ],
   "source": [
    "age >= 23"
   ]
  },
  {
   "cell_type": "code",
   "execution_count": 14,
   "metadata": {},
   "outputs": [
    {
     "data": {
      "text/plain": [
       "True"
      ]
     },
     "execution_count": 14,
     "metadata": {},
     "output_type": "execute_result"
    }
   ],
   "source": [
    "age <= 23"
   ]
  },
  {
   "cell_type": "markdown",
   "id": "phantom-installation",
   "metadata": {},
   "source": [
    "**NOTA**: \n",
    " - Un solo signo de igualdad = en Python es **asignacion**\n",
    " - Dos signos de igualdad == es un operador relacional (una **pregunta**)"
   ]
  },
  {
   "cell_type": "markdown",
   "id": "moved-constitution",
   "metadata": {},
   "source": [
    "### Operadores lógicos/booleanos"
   ]
  },
  {
   "cell_type": "markdown",
   "metadata": {},
   "source": [
    "Su input es booleano y su resultado es booleano"
   ]
  },
  {
   "cell_type": "markdown",
   "metadata": {},
   "source": [
    "Son los operadores `and`, `or`, `not`"
   ]
  },
  {
   "cell_type": "markdown",
   "metadata": {},
   "source": [
    "<img width=500 src=\"https://i.stack.imgur.com/nl0W8.jpg\">"
   ]
  },
  {
   "cell_type": "code",
   "execution_count": 16,
   "metadata": {},
   "outputs": [
    {
     "data": {
      "text/plain": [
       "23"
      ]
     },
     "execution_count": 16,
     "metadata": {},
     "output_type": "execute_result"
    }
   ],
   "source": [
    "age"
   ]
  },
  {
   "cell_type": "code",
   "execution_count": 20,
   "metadata": {},
   "outputs": [
    {
     "data": {
      "text/plain": [
       "False"
      ]
     },
     "execution_count": 20,
     "metadata": {},
     "output_type": "execute_result"
    }
   ],
   "source": [
    "(age > 18) and (age % 2 == 0)"
   ]
  },
  {
   "cell_type": "code",
   "execution_count": 21,
   "metadata": {},
   "outputs": [
    {
     "data": {
      "text/plain": [
       "True"
      ]
     },
     "execution_count": 21,
     "metadata": {},
     "output_type": "execute_result"
    }
   ],
   "source": [
    "(age > 18) or (age % 2 == 0)"
   ]
  },
  {
   "cell_type": "code",
   "execution_count": 22,
   "metadata": {},
   "outputs": [
    {
     "data": {
      "text/plain": [
       "False"
      ]
     },
     "execution_count": 22,
     "metadata": {},
     "output_type": "execute_result"
    }
   ],
   "source": [
    "not (age > 18)"
   ]
  },
  {
   "cell_type": "markdown",
   "id": "attended-assurance",
   "metadata": {},
   "source": [
    "# Control de flujo"
   ]
  },
  {
   "cell_type": "markdown",
   "id": "environmental-medium",
   "metadata": {},
   "source": [
    "El **flujo** de un programa es el camino que sigue para ejecutar el código. Este camino puede variar en función del valor de ciertas variables."
   ]
  },
  {
   "cell_type": "markdown",
   "id": "assured-guidance",
   "metadata": {},
   "source": [
    "## Condicionales `if`-`elif`-`else`"
   ]
  },
  {
   "cell_type": "markdown",
   "metadata": {},
   "source": [
    "`if` ejecuta código si una condición **SI** se cumple"
   ]
  },
  {
   "cell_type": "code",
   "execution_count": 23,
   "metadata": {},
   "outputs": [],
   "source": [
    "age = 23"
   ]
  },
  {
   "cell_type": "code",
   "execution_count": 27,
   "id": "pediatric-polyester",
   "metadata": {},
   "outputs": [
    {
     "name": "stdout",
     "output_type": "stream",
     "text": [
      "Pasa a la discoteca\n"
     ]
    }
   ],
   "source": [
    "if age > 18:\n",
    "    print(\"Pasa a la discoteca\")"
   ]
  },
  {
   "cell_type": "markdown",
   "metadata": {},
   "source": [
    "Ojo a la indentación (sangría) del código"
   ]
  },
  {
   "cell_type": "code",
   "execution_count": 28,
   "metadata": {},
   "outputs": [
    {
     "name": "stdout",
     "output_type": "stream",
     "text": [
      "Pasa a la discoteca\n",
      "Hoy es sábado\n"
     ]
    }
   ],
   "source": [
    "if age > 18:\n",
    "    print(\"Pasa a la discoteca\")\n",
    "    \n",
    "print(\"Hoy es sábado\")"
   ]
  },
  {
   "cell_type": "code",
   "execution_count": 31,
   "metadata": {},
   "outputs": [
    {
     "name": "stdout",
     "output_type": "stream",
     "text": [
      "Hoy es sábado\n"
     ]
    }
   ],
   "source": [
    "if age > 30:\n",
    "    print(\"Pasa a la zona VIP\")\n",
    "    \n",
    "print(\"Hoy es sábado\")"
   ]
  },
  {
   "cell_type": "markdown",
   "metadata": {},
   "source": [
    "`else` es lo que se ejecuta si **NO** se cumple una condición `if`. Es opcional"
   ]
  },
  {
   "cell_type": "code",
   "execution_count": 32,
   "metadata": {},
   "outputs": [
    {
     "name": "stdout",
     "output_type": "stream",
     "text": [
      "Pasa a la discoteca\n"
     ]
    }
   ],
   "source": [
    "if age > 18:\n",
    "    print(\"Pasa a la discoteca\")\n",
    "else:\n",
    "    print(\"Vete a la discoteca light\")"
   ]
  },
  {
   "cell_type": "code",
   "execution_count": 33,
   "metadata": {},
   "outputs": [
    {
     "name": "stdout",
     "output_type": "stream",
     "text": [
      "No puedes pasar a la zona VIP\n"
     ]
    }
   ],
   "source": [
    "if age > 30:\n",
    "    print(\"Pasa a la zona VIP\")\n",
    "else:\n",
    "    print(\"No puedes pasar a la zona VIP\")"
   ]
  },
  {
   "cell_type": "markdown",
   "metadata": {},
   "source": [
    "Podríamos crear una lógica del siguiente tipo también:"
   ]
  },
  {
   "cell_type": "code",
   "execution_count": 35,
   "metadata": {},
   "outputs": [
    {
     "name": "stdout",
     "output_type": "stream",
     "text": [
      "Pasa a la discoteca\n"
     ]
    }
   ],
   "source": [
    "if age > 30:\n",
    "    print(\"Pasa a la zona VIP\")\n",
    "else:\n",
    "    if age > 18:\n",
    "        print(\"Pasa a la discoteca\")\n",
    "    else:\n",
    "        print(\"Vete a la discoteca light\")"
   ]
  },
  {
   "cell_type": "markdown",
   "metadata": {},
   "source": [
    "`elif` permite simplificar lo anterior:"
   ]
  },
  {
   "cell_type": "code",
   "execution_count": null,
   "metadata": {},
   "outputs": [],
   "source": [
    "if age > 30:\n",
    "    print(\"Pasa a la zona VIP\")\n",
    "elif age > 18:\n",
    "    print(\"Pasa a la discoteca\")\n",
    "else:\n",
    "    print(\"Vete a la discoteca light\")"
   ]
  },
  {
   "cell_type": "markdown",
   "metadata": {},
   "source": [
    "**Ejercicio**: qué imprime el código siguiente?"
   ]
  },
  {
   "cell_type": "code",
   "execution_count": null,
   "metadata": {},
   "outputs": [],
   "source": [
    "if 'foo' in ['foo', 'bar', 'baz']:\n",
    "    print(1)\n",
    "    if 10 > 20:       \n",
    "        print(2)\n",
    "    \n",
    "    print(3)\n",
    "\n",
    "    if 10 < 20:       \n",
    "        print(4)       \n",
    "    \n",
    "    print(5)\n",
    "else:\n",
    "    print(6)\n",
    "    \n",
    "print(7)"
   ]
  },
  {
   "cell_type": "markdown",
   "metadata": {},
   "source": [
    "**Ejercicio**: si una palabra empieza por **a**, la llamamos buena. Si empieza por **e**, la llamamos regular. En otro caso es mala. Escribe un condicional que imprima de qué tipo es una palabra"
   ]
  },
  {
   "cell_type": "code",
   "execution_count": 45,
   "metadata": {},
   "outputs": [],
   "source": [
    "palabra = \"renacuajo\""
   ]
  },
  {
   "cell_type": "code",
   "execution_count": 46,
   "metadata": {},
   "outputs": [
    {
     "name": "stdout",
     "output_type": "stream",
     "text": [
      "mala\n"
     ]
    }
   ],
   "source": [
    "if palabra[0] == \"a\":\n",
    "    print(\"buena\")\n",
    "elif palabra[0] == \"e\":\n",
    "    print(\"regular\")\n",
    "else:\n",
    "    print(\"mala\")"
   ]
  },
  {
   "cell_type": "markdown",
   "metadata": {},
   "source": [
    "## Bucles `for`"
   ]
  },
  {
   "cell_type": "markdown",
   "metadata": {},
   "source": [
    "Hay objetos **iterables** en Python: listas, strings, diccionarios... El `for` itera por ellos."
   ]
  },
  {
   "cell_type": "markdown",
   "metadata": {},
   "source": [
    "### Intro"
   ]
  },
  {
   "cell_type": "markdown",
   "metadata": {},
   "source": [
    "Iterar por una lista"
   ]
  },
  {
   "cell_type": "code",
   "execution_count": 52,
   "metadata": {},
   "outputs": [],
   "source": [
    "words = ['cat', 'window', 'friend', 'car', 'arrow']"
   ]
  },
  {
   "cell_type": "code",
   "execution_count": 57,
   "metadata": {},
   "outputs": [
    {
     "name": "stdout",
     "output_type": "stream",
     "text": [
      "cat\n",
      "window\n",
      "friend\n",
      "car\n",
      "arrow\n"
     ]
    }
   ],
   "source": [
    "for word in words:\n",
    "    print(word)"
   ]
  },
  {
   "cell_type": "code",
   "execution_count": 59,
   "metadata": {},
   "outputs": [
    {
     "name": "stdout",
     "output_type": "stream",
     "text": [
      "9\n",
      "9\n",
      "9\n",
      "9\n",
      "9\n"
     ]
    }
   ],
   "source": [
    "for word in words:\n",
    "    print(9)"
   ]
  },
  {
   "cell_type": "code",
   "execution_count": 60,
   "metadata": {},
   "outputs": [
    {
     "name": "stdout",
     "output_type": "stream",
     "text": [
      "CAT\n",
      "WINDOW\n",
      "FRIEND\n",
      "CAR\n",
      "ARROW\n"
     ]
    }
   ],
   "source": [
    "for word in words:\n",
    "    print(word.upper())"
   ]
  },
  {
   "cell_type": "code",
   "execution_count": 63,
   "metadata": {},
   "outputs": [
    {
     "data": {
      "text/plain": [
       "['cat', 'window', 'friend', 'car', 'arrow']"
      ]
     },
     "execution_count": 63,
     "metadata": {},
     "output_type": "execute_result"
    }
   ],
   "source": [
    "words"
   ]
  },
  {
   "cell_type": "code",
   "execution_count": 61,
   "metadata": {},
   "outputs": [
    {
     "name": "stdout",
     "output_type": "stream",
     "text": [
      "cat 3\n",
      "hola\n",
      "window 6\n",
      "hola\n",
      "friend 6\n",
      "hola\n",
      "car 3\n",
      "hola\n",
      "arrow 5\n",
      "hola\n",
      "adios\n"
     ]
    }
   ],
   "source": [
    "for word in words:\n",
    "    print(word, len(word))\n",
    "    print(\"hola\")\n",
    "\n",
    "print(\"adios\")"
   ]
  },
  {
   "cell_type": "code",
   "execution_count": 74,
   "metadata": {},
   "outputs": [
    {
     "name": "stdout",
     "output_type": "stream",
     "text": [
      "cucucucucucucucucu\n",
      "window\n",
      "friend\n",
      "cucucucucucucucucu\n",
      "arrow\n"
     ]
    }
   ],
   "source": [
    "for w in words:\n",
    "    if len(w) > 3:\n",
    "        print(w)\n",
    "    else:\n",
    "        print(\"cucucucucucucucucu\")"
   ]
  },
  {
   "cell_type": "code",
   "execution_count": 64,
   "metadata": {},
   "outputs": [],
   "source": [
    "numbers = [12, 39, 44, 76, 18]"
   ]
  },
  {
   "cell_type": "code",
   "execution_count": 71,
   "metadata": {},
   "outputs": [
    {
     "name": "stdout",
     "output_type": "stream",
     "text": [
      "12 True\n",
      "39 False\n",
      "44 True\n",
      "76 True\n",
      "18 True\n"
     ]
    }
   ],
   "source": [
    "for n in numbers:\n",
    "    print(n, n % 2 == 0)"
   ]
  },
  {
   "cell_type": "code",
   "execution_count": 72,
   "metadata": {},
   "outputs": [
    {
     "name": "stdout",
     "output_type": "stream",
     "text": [
      "El número 12 es par\n",
      "El número 39 es impar\n",
      "El número 44 es par\n",
      "El número 76 es par\n",
      "El número 18 es par\n"
     ]
    }
   ],
   "source": [
    "for n in numbers:\n",
    "    if n % 2 == 0:\n",
    "        print(f\"El número {n} es par\")\n",
    "    else:\n",
    "        print(f\"El número {n} es impar\")"
   ]
  },
  {
   "cell_type": "code",
   "execution_count": 70,
   "metadata": {},
   "outputs": [
    {
     "name": "stdout",
     "output_type": "stream",
     "text": [
      "13\n",
      "hola\tadios\n",
      "\n",
      "40\n",
      "hola\tadios\n",
      "\n",
      "45\n",
      "hola\tadios\n",
      "\n",
      "77\n",
      "hola\tadios\n",
      "\n",
      "19\n",
      "hola\tadios\n",
      "\n"
     ]
    }
   ],
   "source": [
    "for n in numbers:\n",
    "    print(n + 1)\n",
    "    print(\"hola\\tadios\\n\")"
   ]
  },
  {
   "cell_type": "markdown",
   "metadata": {},
   "source": [
    "Iterar por un string"
   ]
  },
  {
   "cell_type": "code",
   "execution_count": 78,
   "metadata": {},
   "outputs": [],
   "source": [
    "name = \"Juan\""
   ]
  },
  {
   "cell_type": "code",
   "execution_count": 83,
   "metadata": {},
   "outputs": [
    {
     "name": "stdout",
     "output_type": "stream",
     "text": [
      "J\n",
      "u\n",
      "a\n",
      "n\n"
     ]
    }
   ],
   "source": [
    "for char in name:\n",
    "    print(char)"
   ]
  },
  {
   "cell_type": "code",
   "execution_count": 82,
   "metadata": {},
   "outputs": [
    {
     "name": "stdout",
     "output_type": "stream",
     "text": [
      "pipi\n",
      "pipi\n",
      "a\n",
      "pipi\n"
     ]
    }
   ],
   "source": [
    "for c in name:\n",
    "    if c in \"aei\":\n",
    "        print(c)\n",
    "    else:\n",
    "        print(\"pipi\")"
   ]
  },
  {
   "cell_type": "markdown",
   "metadata": {},
   "source": [
    "### range()"
   ]
  },
  {
   "cell_type": "code",
   "execution_count": 84,
   "metadata": {},
   "outputs": [
    {
     "data": {
      "text/plain": [
       "range(0, 10)"
      ]
     },
     "execution_count": 84,
     "metadata": {},
     "output_type": "execute_result"
    }
   ],
   "source": [
    "range(10)"
   ]
  },
  {
   "cell_type": "code",
   "execution_count": 85,
   "metadata": {},
   "outputs": [
    {
     "data": {
      "text/plain": [
       "[0, 1, 2, 3, 4, 5, 6, 7, 8, 9]"
      ]
     },
     "execution_count": 85,
     "metadata": {},
     "output_type": "execute_result"
    }
   ],
   "source": [
    "list(range(10))"
   ]
  },
  {
   "cell_type": "code",
   "execution_count": 86,
   "metadata": {},
   "outputs": [
    {
     "data": {
      "text/plain": [
       "[2, 3, 4, 5, 6, 7]"
      ]
     },
     "execution_count": 86,
     "metadata": {},
     "output_type": "execute_result"
    }
   ],
   "source": [
    "list(range(2, 8))"
   ]
  },
  {
   "cell_type": "code",
   "execution_count": 89,
   "metadata": {},
   "outputs": [
    {
     "name": "stdout",
     "output_type": "stream",
     "text": [
      "2 4\n",
      "3 9\n",
      "4 16\n",
      "5 25\n",
      "6 36\n",
      "7 49\n"
     ]
    }
   ],
   "source": [
    "for n in range(2, 8):\n",
    "    print(n, n ** 2)"
   ]
  },
  {
   "cell_type": "markdown",
   "metadata": {},
   "source": [
    "**Ejercicio**: escribe un programa que imprima todos los números menores de 50 que son múltiplos de 7"
   ]
  },
  {
   "cell_type": "code",
   "execution_count": 92,
   "metadata": {},
   "outputs": [
    {
     "name": "stdout",
     "output_type": "stream",
     "text": [
      "7\n",
      "14\n",
      "21\n",
      "28\n",
      "35\n",
      "42\n",
      "49\n"
     ]
    }
   ],
   "source": [
    "for num in range(1, 50):\n",
    "    if num % 7 == 0:\n",
    "        print(num)"
   ]
  },
  {
   "cell_type": "markdown",
   "metadata": {},
   "source": [
    "### enumerate()"
   ]
  },
  {
   "cell_type": "markdown",
   "metadata": {},
   "source": [
    "Sirve para iterar por índices, además de por los valores"
   ]
  },
  {
   "cell_type": "code",
   "execution_count": 93,
   "metadata": {},
   "outputs": [],
   "source": [
    "names = ['Alice', 'Bob', 'Jack', 'Mary', 'Manuel', 'Amanda', 'Ignacio', 'Fernando']"
   ]
  },
  {
   "cell_type": "code",
   "execution_count": 94,
   "metadata": {},
   "outputs": [
    {
     "name": "stdout",
     "output_type": "stream",
     "text": [
      "Alice\n",
      "Bob\n",
      "Jack\n",
      "Mary\n",
      "Manuel\n",
      "Amanda\n",
      "Ignacio\n",
      "Fernando\n"
     ]
    }
   ],
   "source": [
    "for n in names:\n",
    "    print(n)"
   ]
  },
  {
   "cell_type": "code",
   "execution_count": 103,
   "metadata": {},
   "outputs": [
    {
     "name": "stdout",
     "output_type": "stream",
     "text": [
      "0\n",
      "1\n",
      "2\n",
      "3\n",
      "4\n",
      "5\n",
      "6\n",
      "7\n"
     ]
    }
   ],
   "source": [
    "for i, name in enumerate(names):\n",
    "    print(i)"
   ]
  },
  {
   "cell_type": "code",
   "execution_count": 102,
   "metadata": {},
   "outputs": [
    {
     "name": "stdout",
     "output_type": "stream",
     "text": [
      "Mi amigo número 0 es Alice\n",
      "0 ALICE \n",
      "\n",
      "Mi amigo número 1 es Bob\n",
      "1 BOB \n",
      "\n",
      "Mi amigo número 2 es Jack\n",
      "4 JACK \n",
      "\n",
      "Mi amigo número 3 es Mary\n",
      "9 MARY \n",
      "\n",
      "Mi amigo número 4 es Manuel\n",
      "16 MANUEL \n",
      "\n",
      "Mi amigo número 5 es Amanda\n",
      "25 AMANDA \n",
      "\n",
      "Mi amigo número 6 es Ignacio\n",
      "36 IGNACIO \n",
      "\n",
      "Mi amigo número 7 es Fernando\n",
      "49 FERNANDO \n",
      "\n"
     ]
    }
   ],
   "source": [
    "for i, name in enumerate(names):\n",
    "    print(f\"Mi amigo número {i} es {name}\")\n",
    "    print(i ** 2, name.upper(), \"\\n\")"
   ]
  },
  {
   "cell_type": "markdown",
   "metadata": {},
   "source": [
    "### break"
   ]
  },
  {
   "cell_type": "markdown",
   "metadata": {},
   "source": [
    "Podemos **parar** un bucle cuando consideremos necesario"
   ]
  },
  {
   "cell_type": "code",
   "execution_count": 104,
   "metadata": {},
   "outputs": [
    {
     "data": {
      "text/plain": [
       "['cat', 'window', 'friend', 'car', 'arrow']"
      ]
     },
     "execution_count": 104,
     "metadata": {},
     "output_type": "execute_result"
    }
   ],
   "source": [
    "words"
   ]
  },
  {
   "cell_type": "code",
   "execution_count": 105,
   "metadata": {},
   "outputs": [
    {
     "name": "stdout",
     "output_type": "stream",
     "text": [
      "cat\n",
      "window\n",
      "friend\n",
      "word 'friend' contains letter 'e'!! We stop\n"
     ]
    }
   ],
   "source": [
    "for w in words:\n",
    "    print(w)\n",
    "    \n",
    "    if \"e\" in w:\n",
    "        print(f\"word '{w}' contains letter 'e'!! We stop\")\n",
    "        break"
   ]
  },
  {
   "cell_type": "markdown",
   "metadata": {},
   "source": [
    "### zip()"
   ]
  },
  {
   "cell_type": "markdown",
   "metadata": {},
   "source": [
    "Es utilizado para iterar por más de un iterable"
   ]
  },
  {
   "cell_type": "code",
   "execution_count": 108,
   "metadata": {},
   "outputs": [
    {
     "data": {
      "text/plain": [
       "['Alice', 'Bob', 'Jack', 'Mary', 'Manuel', 'Amanda', 'Ignacio', 'Fernando']"
      ]
     },
     "execution_count": 108,
     "metadata": {},
     "output_type": "execute_result"
    }
   ],
   "source": [
    "names"
   ]
  },
  {
   "cell_type": "code",
   "execution_count": 109,
   "metadata": {},
   "outputs": [],
   "source": [
    "ages = [30, 20, 21, 22, 94, 54, 88, 10]"
   ]
  },
  {
   "cell_type": "code",
   "execution_count": 110,
   "metadata": {},
   "outputs": [
    {
     "data": {
      "text/plain": [
       "8"
      ]
     },
     "execution_count": 110,
     "metadata": {},
     "output_type": "execute_result"
    }
   ],
   "source": [
    "len(names)"
   ]
  },
  {
   "cell_type": "code",
   "execution_count": 111,
   "metadata": {},
   "outputs": [
    {
     "data": {
      "text/plain": [
       "8"
      ]
     },
     "execution_count": 111,
     "metadata": {},
     "output_type": "execute_result"
    }
   ],
   "source": [
    "len(ages)"
   ]
  },
  {
   "cell_type": "code",
   "execution_count": 112,
   "metadata": {},
   "outputs": [
    {
     "name": "stdout",
     "output_type": "stream",
     "text": [
      "Alice 30\n",
      "Bob 20\n",
      "Jack 21\n",
      "Mary 22\n",
      "Manuel 94\n",
      "Amanda 54\n",
      "Ignacio 88\n",
      "Fernando 10\n"
     ]
    }
   ],
   "source": [
    "for name, age in zip(names, ages):\n",
    "    print(name, age)"
   ]
  },
  {
   "cell_type": "markdown",
   "metadata": {},
   "source": [
    "### Iterar sobre un diccionario"
   ]
  },
  {
   "cell_type": "code",
   "execution_count": 113,
   "metadata": {},
   "outputs": [],
   "source": [
    "persona = {\n",
    "    \"age\": 33,\n",
    "    \"name\": \"Manuel\",\n",
    "    \"city\": \"Madrid\",\n",
    "    \"height\": 1.84,\n",
    "    \"has_children\": False,\n",
    "    \"friends\": [\"Juan\", \"Luis\"],\n",
    "    \"ocupacion\": {\n",
    "        \"name\": \"profe\",\n",
    "        \"tiempo\": 3,\n",
    "        \"salario\": 100\n",
    "    }\n",
    "}"
   ]
  },
  {
   "cell_type": "code",
   "execution_count": 118,
   "metadata": {},
   "outputs": [
    {
     "name": "stdout",
     "output_type": "stream",
     "text": [
      "age\n",
      "name\n",
      "city\n",
      "height\n",
      "has_children\n",
      "friends\n",
      "ocupacion\n"
     ]
    }
   ],
   "source": [
    "for k in persona.keys():\n",
    "    print(k)"
   ]
  },
  {
   "cell_type": "code",
   "execution_count": 119,
   "metadata": {},
   "outputs": [
    {
     "name": "stdout",
     "output_type": "stream",
     "text": [
      "33\n",
      "Manuel\n",
      "Madrid\n",
      "1.84\n",
      "False\n",
      "['Juan', 'Luis']\n",
      "{'name': 'profe', 'tiempo': 3, 'salario': 100}\n"
     ]
    }
   ],
   "source": [
    "for pepe in persona.values():\n",
    "    print(pepe)"
   ]
  },
  {
   "cell_type": "markdown",
   "metadata": {},
   "source": [
    "Los diccionarios tienen un método llamado `.items()`, que enumera sus keys y values"
   ]
  },
  {
   "cell_type": "code",
   "execution_count": 121,
   "metadata": {},
   "outputs": [
    {
     "data": {
      "text/plain": [
       "dict_items([('age', 33), ('name', 'Manuel'), ('city', 'Madrid'), ('height', 1.84), ('has_children', False), ('friends', ['Juan', 'Luis']), ('ocupacion', {'name': 'profe', 'tiempo': 3, 'salario': 100})])"
      ]
     },
     "execution_count": 121,
     "metadata": {},
     "output_type": "execute_result"
    }
   ],
   "source": [
    "persona.items()"
   ]
  },
  {
   "cell_type": "code",
   "execution_count": 125,
   "metadata": {},
   "outputs": [
    {
     "name": "stdout",
     "output_type": "stream",
     "text": [
      "age Linux 33 \n",
      "\n",
      "name Linux Manuel \n",
      "\n",
      "city Linux Madrid \n",
      "\n",
      "height Linux 1.84 \n",
      "\n",
      "has_children Linux False \n",
      "\n",
      "friends Linux ['Juan', 'Luis'] \n",
      "\n",
      "ocupacion Linux {'name': 'profe', 'tiempo': 3, 'salario': 100} \n",
      "\n"
     ]
    }
   ],
   "source": [
    "for k, v in persona.items():\n",
    "    print(k, \"Linux\", v, \"\\n\")"
   ]
  },
  {
   "cell_type": "code",
   "execution_count": 141,
   "metadata": {},
   "outputs": [
    {
     "data": {
      "text/plain": [
       "{'age': 33,\n",
       " 'name': 'Manuel',\n",
       " 'city': 'Madrid',\n",
       " 'height': 1.84,\n",
       " 'has_children': False,\n",
       " 'friends': ['Juan', 'Luis'],\n",
       " 'ocupacion': {'name': 'profe', 'tiempo': 3, 'salario': 100}}"
      ]
     },
     "execution_count": 141,
     "metadata": {},
     "output_type": "execute_result"
    }
   ],
   "source": [
    "persona"
   ]
  },
  {
   "cell_type": "code",
   "execution_count": 142,
   "metadata": {},
   "outputs": [
    {
     "data": {
      "text/plain": [
       "{'name': 'profe', 'tiempo': 3, 'salario': 100}"
      ]
     },
     "execution_count": 142,
     "metadata": {},
     "output_type": "execute_result"
    }
   ],
   "source": [
    "for k, v in persona[\"ocupacion\"].items()"
   ]
  },
  {
   "cell_type": "markdown",
   "metadata": {},
   "source": [
    "## Bucles `while`"
   ]
  },
  {
   "cell_type": "markdown",
   "metadata": {},
   "source": [
    "Se utiliza para correr un bucle mientras se satisfaga una condición."
   ]
  },
  {
   "cell_type": "code",
   "execution_count": 134,
   "metadata": {},
   "outputs": [],
   "source": [
    "n = 8"
   ]
  },
  {
   "cell_type": "code",
   "execution_count": 135,
   "metadata": {},
   "outputs": [
    {
     "name": "stdout",
     "output_type": "stream",
     "text": [
      "8\n",
      "11\n",
      "14\n",
      "17\n"
     ]
    }
   ],
   "source": [
    "while n < 20:\n",
    "    print(n)\n",
    "    n = n + 3"
   ]
  },
  {
   "cell_type": "markdown",
   "metadata": {},
   "source": [
    "## Funciones"
   ]
  },
  {
   "cell_type": "markdown",
   "metadata": {},
   "source": [
    "### Funciones conocidas"
   ]
  },
  {
   "cell_type": "code",
   "execution_count": 143,
   "metadata": {},
   "outputs": [
    {
     "data": {
      "text/plain": [
       "5"
      ]
     },
     "execution_count": 143,
     "metadata": {},
     "output_type": "execute_result"
    }
   ],
   "source": [
    "len(\"table\")"
   ]
  },
  {
   "cell_type": "code",
   "execution_count": 144,
   "metadata": {},
   "outputs": [
    {
     "data": {
      "text/plain": [
       "5"
      ]
     },
     "execution_count": 144,
     "metadata": {},
     "output_type": "execute_result"
    }
   ],
   "source": [
    "round(4.55)"
   ]
  },
  {
   "cell_type": "code",
   "execution_count": 145,
   "metadata": {},
   "outputs": [],
   "source": [
    "import math"
   ]
  },
  {
   "cell_type": "code",
   "execution_count": 146,
   "metadata": {},
   "outputs": [
    {
     "data": {
      "text/plain": [
       "3.0"
      ]
     },
     "execution_count": 146,
     "metadata": {},
     "output_type": "execute_result"
    }
   ],
   "source": [
    "math.log10(1000)"
   ]
  },
  {
   "cell_type": "code",
   "execution_count": 147,
   "metadata": {},
   "outputs": [
    {
     "data": {
      "text/plain": [
       "1.0"
      ]
     },
     "execution_count": 147,
     "metadata": {},
     "output_type": "execute_result"
    }
   ],
   "source": [
    "math.cos(0)"
   ]
  },
  {
   "cell_type": "code",
   "execution_count": 148,
   "metadata": {},
   "outputs": [],
   "source": [
    "import random"
   ]
  },
  {
   "cell_type": "code",
   "execution_count": 161,
   "metadata": {},
   "outputs": [
    {
     "data": {
      "text/plain": [
       "1.963502936174459"
      ]
     },
     "execution_count": 161,
     "metadata": {},
     "output_type": "execute_result"
    }
   ],
   "source": [
    "random.uniform(0, 5)"
   ]
  },
  {
   "cell_type": "markdown",
   "metadata": {},
   "source": [
    "### Motivación"
   ]
  },
  {
   "cell_type": "markdown",
   "metadata": {},
   "source": [
    "**Ejemplo**: te dan un tiempo como un string en el formato `minutos:segundos`. Pásalo a segundos"
   ]
  },
  {
   "cell_type": "code",
   "execution_count": 183,
   "metadata": {},
   "outputs": [],
   "source": [
    "t = \"10:04\""
   ]
  },
  {
   "cell_type": "code",
   "execution_count": 185,
   "metadata": {},
   "outputs": [],
   "source": [
    "elems = t.split(\":\")\n",
    "\n",
    "mins = int(elems[0])\n",
    "secs = int(elems[1])\n",
    "\n",
    "total_secs = mins * 60 + secs"
   ]
  },
  {
   "cell_type": "code",
   "execution_count": 186,
   "metadata": {},
   "outputs": [
    {
     "data": {
      "text/plain": [
       "604"
      ]
     },
     "execution_count": 186,
     "metadata": {},
     "output_type": "execute_result"
    }
   ],
   "source": [
    "total_secs"
   ]
  },
  {
   "cell_type": "markdown",
   "metadata": {},
   "source": [
    "Creamos ahora una función que pueda ejecutar esa lógica una y otra vez"
   ]
  },
  {
   "cell_type": "code",
   "execution_count": 188,
   "metadata": {},
   "outputs": [],
   "source": [
    "def get_total_seconds(time_string):\n",
    "    elems = time_string.split(\":\")\n",
    "\n",
    "    mins = int(elems[0])\n",
    "    secs = int(elems[1])\n",
    "\n",
    "    total_secs = mins * 60 + secs\n",
    "    \n",
    "    return total_secs"
   ]
  },
  {
   "cell_type": "code",
   "execution_count": 189,
   "metadata": {},
   "outputs": [
    {
     "data": {
      "text/plain": [
       "242"
      ]
     },
     "execution_count": 189,
     "metadata": {},
     "output_type": "execute_result"
    }
   ],
   "source": [
    "get_total_seconds(\"4:02\")"
   ]
  },
  {
   "cell_type": "code",
   "execution_count": 191,
   "metadata": {},
   "outputs": [
    {
     "data": {
      "text/plain": [
       "10"
      ]
     },
     "execution_count": 191,
     "metadata": {},
     "output_type": "execute_result"
    }
   ],
   "source": [
    "get_total_seconds(\"0:10\")"
   ]
  },
  {
   "cell_type": "code",
   "execution_count": 192,
   "metadata": {},
   "outputs": [
    {
     "data": {
      "text/plain": [
       "620"
      ]
     },
     "execution_count": 192,
     "metadata": {},
     "output_type": "execute_result"
    }
   ],
   "source": [
    "get_total_seconds(\"10:20\")"
   ]
  },
  {
   "cell_type": "code",
   "execution_count": 193,
   "metadata": {},
   "outputs": [
    {
     "data": {
      "text/plain": [
       "2275"
      ]
     },
     "execution_count": 193,
     "metadata": {},
     "output_type": "execute_result"
    }
   ],
   "source": [
    "get_total_seconds(\"05:33\") + get_total_seconds(\"32:22\")"
   ]
  },
  {
   "cell_type": "markdown",
   "metadata": {},
   "source": [
    "La **reusabilidad** es la principal motivación para crear funciones"
   ]
  },
  {
   "cell_type": "markdown",
   "metadata": {},
   "source": [
    "### Sintaxis básica y ejemplos"
   ]
  },
  {
   "cell_type": "markdown",
   "metadata": {},
   "source": [
    "Definición de una función:\n",
    "```\n",
    "def function_name(parameter1, parameter2, ...):\n",
    "    code\n",
    "    \n",
    "    return something\n",
    "```"
   ]
  },
  {
   "cell_type": "markdown",
   "metadata": {},
   "source": [
    "Ejecución de una función:  \n",
    "`function_name(argument1, argument2, ...)`  \n",
    "o, si quieres guardar el resultado en una variable:  \n",
    "`result = function_name(argument1, argument2, ...)`  "
   ]
  },
  {
   "cell_type": "markdown",
   "metadata": {},
   "source": [
    "### Funciones con un argumento"
   ]
  },
  {
   "cell_type": "code",
   "execution_count": 194,
   "metadata": {},
   "outputs": [],
   "source": [
    "def square_number(x):\n",
    "    sq = x ** 2\n",
    "    \n",
    "    return sq"
   ]
  },
  {
   "cell_type": "code",
   "execution_count": 195,
   "metadata": {},
   "outputs": [
    {
     "data": {
      "text/plain": [
       "100"
      ]
     },
     "execution_count": 195,
     "metadata": {},
     "output_type": "execute_result"
    }
   ],
   "source": [
    "square_number(10)"
   ]
  },
  {
   "cell_type": "code",
   "execution_count": 196,
   "metadata": {},
   "outputs": [
    {
     "data": {
      "text/plain": [
       "16"
      ]
     },
     "execution_count": 196,
     "metadata": {},
     "output_type": "execute_result"
    }
   ],
   "source": [
    "square_number(4)"
   ]
  },
  {
   "cell_type": "code",
   "execution_count": 197,
   "metadata": {},
   "outputs": [],
   "source": [
    "def contains_vowel(word):\n",
    "    for l in \"aeiou\":\n",
    "        if l in word:\n",
    "            return True\n",
    "    \n",
    "    return False"
   ]
  },
  {
   "cell_type": "code",
   "execution_count": 198,
   "metadata": {},
   "outputs": [
    {
     "data": {
      "text/plain": [
       "False"
      ]
     },
     "execution_count": 198,
     "metadata": {},
     "output_type": "execute_result"
    }
   ],
   "source": [
    "contains_vowel(\"qwrty\")"
   ]
  },
  {
   "cell_type": "code",
   "execution_count": 199,
   "metadata": {},
   "outputs": [
    {
     "data": {
      "text/plain": [
       "True"
      ]
     },
     "execution_count": 199,
     "metadata": {},
     "output_type": "execute_result"
    }
   ],
   "source": [
    "contains_vowel(\"qwerty\")"
   ]
  },
  {
   "cell_type": "markdown",
   "metadata": {},
   "source": [
    "### Funciones con varios argumentos"
   ]
  },
  {
   "cell_type": "code",
   "execution_count": 200,
   "metadata": {},
   "outputs": [],
   "source": [
    "def get_full_name(name, surname):\n",
    "    full_name = name + \" \" + surname\n",
    "    \n",
    "    return full_name"
   ]
  },
  {
   "cell_type": "code",
   "execution_count": 201,
   "metadata": {},
   "outputs": [
    {
     "data": {
      "text/plain": [
       "'pedro giménez'"
      ]
     },
     "execution_count": 201,
     "metadata": {},
     "output_type": "execute_result"
    }
   ],
   "source": [
    "get_full_name(\"pedro\", \"giménez\")"
   ]
  },
  {
   "cell_type": "code",
   "execution_count": 202,
   "metadata": {},
   "outputs": [
    {
     "data": {
      "text/plain": [
       "'mesa silla'"
      ]
     },
     "execution_count": 202,
     "metadata": {},
     "output_type": "execute_result"
    }
   ],
   "source": [
    "get_full_name(\"mesa\", \"silla\")"
   ]
  },
  {
   "cell_type": "code",
   "execution_count": 203,
   "metadata": {},
   "outputs": [],
   "source": [
    "def get_highest_number(a, b):\n",
    "    if a > b:\n",
    "        return a\n",
    "    else:\n",
    "        return b"
   ]
  },
  {
   "cell_type": "code",
   "execution_count": 204,
   "metadata": {},
   "outputs": [
    {
     "data": {
      "text/plain": [
       "10"
      ]
     },
     "execution_count": 204,
     "metadata": {},
     "output_type": "execute_result"
    }
   ],
   "source": [
    "get_highest_number(10, 6)"
   ]
  },
  {
   "cell_type": "code",
   "execution_count": 205,
   "metadata": {},
   "outputs": [
    {
     "data": {
      "text/plain": [
       "60"
      ]
     },
     "execution_count": 205,
     "metadata": {},
     "output_type": "execute_result"
    }
   ],
   "source": [
    "get_highest_number(10, 60)"
   ]
  },
  {
   "cell_type": "markdown",
   "metadata": {},
   "source": [
    "**NOTA**: una función puede tener varios `return`. Cuando el primero se ejecuta, la función termina para siempre"
   ]
  },
  {
   "cell_type": "code",
   "execution_count": 206,
   "metadata": {},
   "outputs": [],
   "source": [
    "def rare_function(x):\n",
    "    print(\"empezamos\")\n",
    "    return x * 2\n",
    "    print(\"no llegamos\")\n",
    "    return x * 3\n",
    "    print(\"no llegamos tampoco\")"
   ]
  },
  {
   "cell_type": "code",
   "execution_count": 207,
   "metadata": {},
   "outputs": [
    {
     "name": "stdout",
     "output_type": "stream",
     "text": [
      "empezamos\n"
     ]
    },
    {
     "data": {
      "text/plain": [
       "200"
      ]
     },
     "execution_count": 207,
     "metadata": {},
     "output_type": "execute_result"
    }
   ],
   "source": [
    "rare_function(100)"
   ]
  },
  {
   "cell_type": "markdown",
   "metadata": {},
   "source": [
    "## Extras"
   ]
  },
  {
   "cell_type": "markdown",
   "metadata": {},
   "source": [
    " - [Documentación de funciones](https://www.programiz.com/python-programming/docstrings)\n",
    " - [Argumentos por defecto](https://www.geeksforgeeks.org/default-arguments-in-python/)"
   ]
  }
 ],
 "metadata": {
  "kernelspec": {
   "display_name": "Python 3",
   "language": "python",
   "name": "python3"
  },
  "language_info": {
   "codemirror_mode": {
    "name": "ipython",
    "version": 3
   },
   "file_extension": ".py",
   "mimetype": "text/x-python",
   "name": "python",
   "nbconvert_exporter": "python",
   "pygments_lexer": "ipython3",
   "version": "3.7.6"
  },
  "toc": {
   "base_numbering": 1,
   "nav_menu": {},
   "number_sections": true,
   "sideBar": true,
   "skip_h1_title": true,
   "title_cell": "Table of Contents",
   "title_sidebar": "Contents",
   "toc_cell": true,
   "toc_position": {},
   "toc_section_display": true,
   "toc_window_display": true
  }
 },
 "nbformat": 4,
 "nbformat_minor": 5
}
